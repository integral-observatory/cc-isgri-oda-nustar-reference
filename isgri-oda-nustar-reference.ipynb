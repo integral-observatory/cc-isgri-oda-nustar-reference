{
 "cells": [
  {
   "cell_type": "code",
   "execution_count": 205,
   "metadata": {
    "tags": [
     "parameters"
    ]
   },
   "outputs": [],
   "source": [
    "subcases_pattern=\"1_1715\"\n",
    "reference_location=\"../..\"\n",
    "source_name=\"Her X-1\"\n",
    "osa_version='OSA11.1' #-dev210827.0528-37487--iisglobal'\n",
    "#osa_version='OSA11.1-dev210827.0528-37487--iisglobal'\n",
    "nscw=-1\n",
    "mosaic=0\n",
    "chi2_limit=1.2\n",
    "systematic_fraction=0.01\n",
    "search_time=-1 #search time of INTEGRAL DATA around the time of observation (days), if -1 uses the actual interval\n",
    "integral_data_rights=\"all-private\""
   ]
  },
  {
   "cell_type": "code",
   "execution_count": 119,
   "metadata": {},
   "outputs": [],
   "source": [
    "if reference_location == 'None':\n",
    "    import subprocess\n",
    "    logfile_name = 'log_download_reference.txt'\n",
    "    logfile = open(logfile_name, 'w')\n",
    "    cmd = 'wget https://www.isdc.unige.ch/~ferrigno/Downloads/subcases_herX1_nustar.tgz;tar xfz subcases_herX1_nustar.tgz;rm subcases_herX1_nustar.tgz'\n",
    "    # cmd='pwd;ls'\n",
    "    out = subprocess.call(cmd, stdout=logfile, stderr=logfile, shell=True)\n",
    "    logfile.close()\n",
    "    if out != 0:\n",
    "        print('Exit status of download and decompression is %d')\n",
    "        raise RuntimeError\n",
    "    \n",
    "    reference_location='.'"
   ]
  },
  {
   "cell_type": "markdown",
   "metadata": {},
   "source": [
    "#  ISGRI verification with NuSTAR reference\n",
    "\n",
    "simultaneous observations allow easy comparisong\n",
    "\n",
    "normalization need to be fitted and reported"
   ]
  },
  {
   "cell_type": "code",
   "execution_count": 120,
   "metadata": {},
   "outputs": [],
   "source": [
    "%matplotlib notebook\n",
    "#import matplotlib.pylab as plt\n",
    "\n",
    "\n",
    "import numpy as np\n",
    "import importlib\n",
    "from astroquery.simbad import Simbad\n",
    "from astropy import coordinates as coord\n",
    "import os\n",
    "import numpy as np\n",
    "import glob\n",
    "import json\n",
    "\n",
    "from astropy.io import fits as pf\n",
    "from astropy.time import Time\n",
    "from astropy.time import TimeDelta\n",
    "\n",
    "from astropy import table\n",
    "\n"
   ]
  },
  {
   "cell_type": "code",
   "execution_count": 121,
   "metadata": {},
   "outputs": [],
   "source": [
    "\n",
    "import requests\n",
    "url=\"https://www.astro.unige.ch/cdci/astrooda/dispatch-data/gw/timesystem/api/v1.0/scwlist/cons/\"\n",
    "def get_scw_list(subcase_dir, ra,dec,time, delta_time): #time in UTC T (2019-06-23T16:53:39.000), deltat in days\n",
    "    \n",
    "    try:\n",
    "        \n",
    "        scwlist = open(subcase_dir+\"/ISGRI_scw_list.txt\").read().split()\n",
    "        print(\"read scw list from \" + subcase_dir+\"/ISGRI_scw_list.txt\")\n",
    "        return scwlist\n",
    "    except:\n",
    "\n",
    "\n",
    "    #     result_table = Simbad.query_object(source_name)\n",
    "    #     source_coord = coord.SkyCoord(result_table['RA'][0], result_table['DEC'][0], unit=(\"hourangle\", \"deg\"))\n",
    "\n",
    "    #     ra=source_coord.ra.deg\n",
    "    #     dec=source_coord.dec.deg\n",
    "\n",
    "        dt = TimeDelta(delta_time)\n",
    "\n",
    "        Tstart = Time(time) - dt\n",
    "        Tstop  = Time(time) + dt\n",
    "\n",
    "        Tstart.format='isot'\n",
    "        Tstop.format='isot'\n",
    "\n",
    "\n",
    "        params=Tstart.value+'/'+Tstop.value+'?&ra='+str(ra)+'&dec='+str(dec)+'&radius='+str(6.0)+'&min_good_isgri=1000'\n",
    "        print(\"Obtained scw list online from \" + url+params)\n",
    "        return requests.get(url+params).json() #,cookies=cookies).json()\n",
    "\n"
   ]
  },
  {
   "cell_type": "code",
   "execution_count": 122,
   "metadata": {},
   "outputs": [
    {
     "data": {
      "text/plain": [
       "'../..'"
      ]
     },
     "execution_count": 122,
     "metadata": {},
     "output_type": "execute_result"
    }
   ],
   "source": [
    "reference_location\n",
    "\n",
    "# if reference_location  not git or http may be a problem\n",
    "# dependency injection for this, if can"
   ]
  },
  {
   "cell_type": "code",
   "execution_count": 123,
   "metadata": {},
   "outputs": [
    {
     "name": "stdout",
     "output_type": "stream",
     "text": [
      "inspecting ../../subcases/Her_X-1_1715\n",
      "Not getting times\n",
      "inspecting ../../subcases/Her_X-1_1715_nustar\n",
      "../../subcases/Her_X-1_1715_nustar/nu10202002002A01_sr_rbn.pi\n",
      "Obtained scw list online from https://www.astro.unige.ch/cdci/astrooda/dispatch-data/gw/timesystem/api/v1.0/scwlist/cons/2016-08-20T04:31:08.000/2016-08-21T06:21:08.000?&ra=254.45754&dec=35.34233&radius=6.0&min_good_isgri=1000\n",
      "2016-08-20T04:31:08.000 2016-08-20T17:26:08.000\n"
     ]
    }
   ],
   "source": [
    "\n",
    "subcase=None\n",
    "reference_spectra = []\n",
    "reference_backs = []\n",
    "reference_rmfs = []\n",
    "reference_arfs = []\n",
    "fns = []\n",
    "\n",
    "all_selected_subcases = glob.glob(reference_location+\"/subcases/*\"+subcases_pattern+\"*\")\n",
    "\n",
    "for subcase_dir in all_selected_subcases:\n",
    "    print(\"inspecting\", subcase_dir)\n",
    "    \n",
    "    fns = [os.path.basename(fn) for fn in sorted(glob.glob(subcase_dir+\"/*\"))]\n",
    "    \n",
    "    try:\n",
    "        #If it is rebinned with my script\n",
    "        reference_spectra = [fn for fn in fns if fn.endswith(\"rbn.pi\")]\n",
    "        \n",
    "        reference_rmfs = [fn for fn in fns if fn.endswith(\"sr.rmf\") or fn.endswith(\"sr.rmf.gz\")]\n",
    "        \n",
    "        reference_arfs = [fn for fn in fns if fn.endswith(\"sr.arf\")]\n",
    "        \n",
    "        reference_backs = [fn for fn in fns if fn.endswith(\"bk.pha\")]\n",
    "        \n",
    "    except: \n",
    "        print(\"Not found Nustar Files in \" + subcase_dir)\n",
    "        continue\n",
    "        \n",
    "    \n",
    "    try:\n",
    "        print(subcase_dir+'/'+reference_spectra[0])\n",
    "        spec=pf.open(subcase_dir+'/'+reference_spectra[0])\n",
    "\n",
    "        t1=Time(spec[1].header['DATE-OBS'])\n",
    "        t2=Time(spec[1].header['DATE-END'])\n",
    "\n",
    "        ra=spec[1].header['RA_OBJ']\n",
    "        dec=spec[1].header['DEC_OBJ']\n",
    "\n",
    "        delta_time = (t2 - t1 )/2\n",
    "\n",
    "        time=t1+delta_time\n",
    "\n",
    "        spec.close()\n",
    "\n",
    "        if search_time == -1:\n",
    "            scwlist= get_scw_list(subcase_dir, ra,dec, time, delta_time)\n",
    "        else:\n",
    "            scwlist= get_scw_list(subcase_dir, ra,dec, time, search_time)\n",
    "        \n",
    "        print(t1, time)\n",
    "        \n",
    "        #print(scwlist)\n",
    "    except:\n",
    "        print(\"Not getting times\")\n",
    "        continue\n",
    "    \n",
    "   \n",
    "        \n",
    "    #print(fns)\n",
    "    \n",
    "    reference_dir=subcase_dir\n",
    "    \n",
    "    #print(\"found\",reference_dir, reference_spectra, len(scwlist),len(ref_sources), ref_sources)\n",
    "        \n",
    "    break\n",
    "        \n",
    "if len(list(zip(reference_spectra, reference_backs, reference_rmfs, reference_arfs))) == 0:\n",
    "    raise Exception(f\"no compatible NuSTAR spectra found; last fns tried {fns} all selected subcases {all_selected_subcases} in {reference_location}\")\n",
    "#reference_spectra, reference_rmfs\n"
   ]
  },
  {
   "cell_type": "code",
   "execution_count": 124,
   "metadata": {},
   "outputs": [
    {
     "name": "stdout",
     "output_type": "stream",
     "text": [
      "searching for coordinates of Her X-1\n"
     ]
    },
    {
     "data": {
      "text/html": [
       "<div><i>Table length=1</i>\n",
       "<table id=\"table140555825587968\" class=\"table-striped table-bordered table-condensed\">\n",
       "<thead><tr><th>MAIN_ID</th><th>RA</th><th>DEC</th><th>RA_PREC</th><th>DEC_PREC</th><th>COO_ERR_MAJA</th><th>COO_ERR_MINA</th><th>COO_ERR_ANGLE</th><th>COO_QUAL</th><th>COO_WAVELENGTH</th><th>COO_BIBCODE</th><th>SCRIPT_NUMBER_ID</th></tr></thead>\n",
       "<thead><tr><th></th><th>&quot;h:m:s&quot;</th><th>&quot;d:m:s&quot;</th><th></th><th></th><th>mas</th><th>mas</th><th>deg</th><th></th><th></th><th></th><th></th></tr></thead>\n",
       "<thead><tr><th>object</th><th>str13</th><th>str13</th><th>int16</th><th>int16</th><th>float32</th><th>float32</th><th>int16</th><th>str1</th><th>str1</th><th>object</th><th>int32</th></tr></thead>\n",
       "<tr><td>V* HZ Her</td><td>16 57 49.8110</td><td>+35 20 32.487</td><td>14</td><td>14</td><td>0.022</td><td>0.024</td><td>90</td><td>A</td><td>O</td><td>2018yCat.1345....0G</td><td>1</td></tr>\n",
       "</table></div>"
      ],
      "text/plain": [
       "<Table length=1>\n",
       " MAIN_ID        RA           DEC      ...     COO_BIBCODE     SCRIPT_NUMBER_ID\n",
       "             \"h:m:s\"       \"d:m:s\"    ...                                     \n",
       "  object      str13         str13     ...        object            int32      \n",
       "--------- ------------- ------------- ... ------------------- ----------------\n",
       "V* HZ Her 16 57 49.8110 +35 20 32.487 ... 2018yCat.1345....0G                1"
      ]
     },
     "execution_count": 124,
     "metadata": {},
     "output_type": "execute_result"
    }
   ],
   "source": [
    "print(\"searching for coordinates of\", source_name)\n",
    "\n",
    "result_table = Simbad.query_object(source_name)\n",
    "source_coord = coord.SkyCoord(result_table['RA'][0], result_table['DEC'][0], unit=(\"hourangle\", \"deg\"))\n",
    "\n",
    "result_table"
   ]
  },
  {
   "cell_type": "code",
   "execution_count": 168,
   "metadata": {},
   "outputs": [
    {
     "data": {
      "text/plain": [
       "'171500480010.001,171500490010.001,171500500010.001,171500510010.001,171500520010.001,171500530010.001,171500540010.001,171500550010.001,171500560010.001,171500570010.001,171500580010.001,171500600010.001,171500610010.001,171500620010.001,171500650010.001,171500660010.001,171500670010.001,171500680010.001,171500690010.001,171500700010.001,171500710010.001,171500720010.001,171500730010.001,171500740010.001,171500750010.001,171500760010.001,171500770010.001,171500780010.001,171500790010.001,171500800010.001,171500810010.001,171500820010.001,171500830010.001,171500850010.001,171500860010.001,171500870010.001,171500880010.001'"
      ]
     },
     "execution_count": 168,
     "metadata": {},
     "output_type": "execute_result"
    }
   ],
   "source": [
    "import random\n",
    "if nscw >0:\n",
    "    random.seed(0)\n",
    "    cleaned_list = [\n",
    "                s+\".\"+\"001\"\n",
    "                for s in list(sorted(set( scwlist  ))) \n",
    "                if s.endswith(\"0010\")\n",
    "            ]\n",
    "    if len(cleaned_list) > nscw:\n",
    "        scw_pick = random.sample(cleaned_list,nscw)\n",
    "    else:\n",
    "        print(\"nscw (%d) > than available scw (%d), using them all\"%(nscw,len(cleaned_list)))\n",
    "        scw_pick = cleaned_list\n",
    "\n",
    "\n",
    "    scw_list_str = \",\".join(sorted(scw_pick))\n",
    "else:\n",
    "    scw_list_str=\",\".join([s+\".\"+\"001\" for s in sorted(set( sorted(scwlist)  ))])\n",
    "\n",
    "#print(len(scw_list_str))\n",
    "\n",
    "scw_list_str"
   ]
  },
  {
   "cell_type": "code",
   "execution_count": 212,
   "metadata": {},
   "outputs": [
    {
     "name": "stderr",
     "output_type": "stream",
     "text": [
      "2021-09-28 19:11:59 87be31766f34 root[468] INFO url https://www.astro.unige.ch/cdci/astrooda/dispatch-data/gw//timesystem/api/v1.0/converttime/SCWID/171500480010/ANY\n"
     ]
    },
    {
     "data": {
      "text/plain": [
       "'171500480010'"
      ]
     },
     "execution_count": 212,
     "metadata": {},
     "output_type": "execute_result"
    }
   ],
   "source": [
    "import integralclient as ic\n",
    "scw_list_str = \",\".join(scw_list_str.split(\",\")[:2])\n",
    "\n",
    "ic.get_sc(ic.converttime(\"SCWID\", scw_list_str.split(\",\")[0][:-4], \"ANY\")['UTC'].split()[0],\n",
    "          ra=ra,\n",
    "          dec=dec)\n",
    "\n",
    "scw_list_str.split(\",\")[0][:-4] "
   ]
  },
  {
   "cell_type": "code",
   "execution_count": 173,
   "metadata": {},
   "outputs": [
    {
     "name": "stdout",
     "output_type": "stream",
     "text": [
      "will find appropriate API for OSA version OSA11.0-dev210827.0528-37487--iisglobal\n",
      "osa version has subversion - will use mmoda\n"
     ]
    }
   ],
   "source": [
    "import oda_api.api\n",
    "import importlib\n",
    "importlib.reload(oda_api)\n",
    "\n",
    "# osa versions with '-' use ic root version, only available on staging-1-3\n",
    "print('will find appropriate API for OSA version', osa_version)\n",
    "if '-' in osa_version:\n",
    "    print('osa version has subversion - will use mmoda')\n",
    "    disp = oda_api.api.DispatcherAPI(url=\"https://www.astro.unige.ch/mmoda/dispatch-data/\")\n",
    "else:\n",
    "    try:\n",
    "        disp = oda_api.api.DispatcherAPI(url=\"http://dispatcher.staging.internal.odahub.io\")\n",
    "        disp.get_instrument_description(\"isgri\")    \n",
    "    except Exception as e:\n",
    "        print('\\033[31mFAILED to access staging-1-2, will proceed to query production: note that it can not access private data!\\033[0m')\n",
    "        print('\\033[31mexception was: ', e,'\\033[0m')\n",
    "        try:\n",
    "            disp = oda_api.api.DispatcherAPI(url='https://www.astro.unige.ch/cdci/astrooda/dispatch-data')\n",
    "            disp.get_instrument_description(\"isgri\")\n",
    "        except:\n",
    "            raise ConnectionError\n"
   ]
  },
  {
   "cell_type": "code",
   "execution_count": 179,
   "metadata": {},
   "outputs": [
    {
     "name": "stdout",
     "output_type": "stream",
     "text": [
      "Found api catalog in file  ../../subcases/Her_X-1_1715_nustar/api_cat_str_Her_X-1.txt\n"
     ]
    }
   ],
   "source": [
    "api_cat = None\n",
    "\n",
    "api_file_list =  glob.glob(subcase_dir+\"/api_cat_str_*.txt\")\n",
    "\n",
    "if len(api_file_list) == 0:\n",
    "    pass\n",
    "elif len(api_file_list) > 1:\n",
    "    raise RuntimeError(f'should not be many of these: {api_file_list}')\n",
    "else:\n",
    "    print('Found api catalog in file ', api_file_list[0])\n",
    "    with open(api_file_list[0]) as ff:\n",
    "        api_cat_struct = json.load(ff)\n",
    "        api_cat = json.dumps(api_cat_struct)\n"
   ]
  },
  {
   "cell_type": "code",
   "execution_count": 180,
   "metadata": {},
   "outputs": [
    {
     "data": {
      "text/plain": [
       "'{\"cat_frame\": \"fk5\", \"cat_coord_units\": \"deg\", \"cat_column_list\": [[3, 36, 44, 45, 210, 0], [\"1E 1740.7-2942\", \"GRO J1719-24\", \"GRS 1758-258\", \"GX 1+4\", \"KS 1741-293\", \"Her X-1\"], [14.02076244354248, 113.27212524414062, 7.533890247344971, 44.93584442138672, 9.441457748413086, 0.0], [265.97607421875, 259.9058837890625, 270.2437744140625, 263.0091552734375, 266.2197570800781, 254.45754], [-29.75826644897461, -25.02088165283203, -25.748001098632812, -24.742778778076172, -29.39611053466797, 35.34233], [-32768, -32768, -32768, -32768, -32768, 0], [2, 2, 2, 2, 1, 2], [0, 0, 0, 0, 0, 0], [2.9999999242136255e-05, 0.00014000000373926014, 0.0002800000074785203, 0.0002800000074785203, 0.009999999776482582, 0.0]], \"cat_column_names\": [\"meta_ID\", \"src_names\", \"significance\", \"ra\", \"dec\", \"NEW_SOURCE\", \"ISGRI_FLAG\", \"FLAG\", \"ERR_RAD\"], \"cat_column_descr\": [[\"meta_ID\", \"<i8\"], [\"src_names\", \"<U14\"], [\"significance\", \"<f8\"], [\"ra\", \"<f8\"], [\"dec\", \"<f8\"], [\"NEW_SOURCE\", \"<i8\"], [\"ISGRI_FLAG\", \"<i8\"], [\"FLAG\", \"<i8\"], [\"ERR_RAD\", \"<f8\"]], \"cat_lat_name\": \"dec\", \"cat_lon_name\": \"ra\"}'"
      ]
     },
     "execution_count": 180,
     "metadata": {},
     "output_type": "execute_result"
    }
   ],
   "source": [
    "api_cat"
   ]
  },
  {
   "cell_type": "code",
   "execution_count": 182,
   "metadata": {},
   "outputs": [],
   "source": [
    "def ensure_source_in_api_cat(_api_cat):\n",
    "    if _api_cat is None:\n",
    "        return _api_cat\n",
    "        \n",
    "    api_cat_dp = oda_api.data_products.ApiCatalog(json.loads(_api_cat))\n",
    "\n",
    "    m_source = api_cat_dp.table['src_names'] == source_name\n",
    "    if api_cat_dp.table['ISGRI_FLAG'][m_source] != [1]:\n",
    "        print(f\"WARNING: ISGRI_FLAG was not set for source of interest ({source_name}), setting to 1\")\n",
    "\n",
    "        api_cat_dp.table['ISGRI_FLAG'][m_source] = 1\n",
    "        _api_cat = api_cat_dp.get_api_dictionary()\n",
    "    return _api_cat\n",
    "\n",
    "api_cat = ensure_source_in_api_cat(api_cat)"
   ]
  },
  {
   "cell_type": "code",
   "execution_count": 213,
   "metadata": {},
   "outputs": [
    {
     "name": "stdout",
     "output_type": "stream",
     "text": [
      "api_cat exists!\n"
     ]
    }
   ],
   "source": [
    "if api_cat is None:\n",
    "\n",
    "    for c_emin in [28]:\n",
    "\n",
    "        image = disp.get_product(instrument=\"isgri\", \n",
    "                         product=\"isgri_image\", \n",
    "                         product_type=\"Real\", \n",
    "                         osa_version=osa_version,\n",
    "                         E1_keV=float(np.round(c_emin)),\n",
    "                         E2_keV=80.0,\n",
    "                         integral_data_rights=integral_data_rights,\n",
    "                         scw_list=scw_list_str,\n",
    "                         token=oda_api.token.discover_token())\n",
    "\n",
    "        sources=image.dispatcher_catalog_1.table[image.dispatcher_catalog_1.table['significance']>=6.0]\n",
    "        #source = sources[sources['src_names']==source_name]\n",
    "        unique_sources=table.unique(sources, keys=['src_names'])\n",
    "else:\n",
    "    print(\"api_cat exists!\")\n",
    "        \n",
    "        \n",
    "        #print(source)\n",
    "\n",
    "#         d=image.mosaic_image_0.data_unit[1].data\n",
    "\n",
    "\n",
    "#         img=np.array(d.data)\n",
    "\n",
    "#         m_bkg=img<10\n",
    "#         m_bkg&=img!=0\n",
    "\n",
    "#         img_std = np.std(img[m_bkg])\n",
    "\n",
    "#         img[np.array(img)>img_std*5]=img_std*5\n",
    "\n",
    "        #plt.imshow(img)\n",
    "\n",
    "#         by_lt['%.10lg'%c_emin]=dict(\n",
    "#             emin=c_emin,            \n",
    "#             imgstd=img_std,\n",
    "#         )\n",
    "#         by_lt['%.10lg'%c_emin].update(dict([(n, source[n]) for n in source.colnames]))\n",
    "\n",
    "        \n",
    "#     for ltb, c in by_lt.items():\n",
    "#         print(lt, c['significance'],c['significance']/c['imgstd'])"
   ]
  },
  {
   "cell_type": "code",
   "execution_count": 184,
   "metadata": {},
   "outputs": [],
   "source": [
    "##Removes new sources and adds our if not found\n",
    "if api_cat is None:\n",
    "    FLAG=0\n",
    "    torm=[]\n",
    "    for ID,n in enumerate(unique_sources['src_names']):\n",
    "        if(n[0:3]=='NEW'):\n",
    "            torm.append(ID)\n",
    "        if(n==source_name):\n",
    "            FLAG=1\n",
    "\n",
    "    unique_sources.remove_rows(torm)\n",
    "    nrows=len(unique_sources['src_names'])\n",
    "\n",
    "    if FLAG==0:\n",
    "        unique_sources.add_row((0,source_name,0,ra,dec,0,2,0,0))\n",
    "\n",
    "    image.dispatcher_catalog_1.table = unique_sources\n",
    "\n",
    "    api_cat=image.dispatcher_catalog_1.get_api_dictionary()\n",
    "    \n",
    "    with open(subcase_dir+\"/api_cat_str_%s.txt\"%(source_name.replace(' ','_').replace('+','p')),'w') as f: \n",
    "        f.write(api_cat) \n",
    "\n"
   ]
  },
  {
   "cell_type": "code",
   "execution_count": 185,
   "metadata": {},
   "outputs": [
    {
     "data": {
      "text/html": [
       "<div><i>Table length=6</i>\n",
       "<table id=\"table140554735229344\" class=\"table-striped table-bordered table-condensed\">\n",
       "<thead><tr><th>meta_ID</th><th>src_names</th><th>significance</th><th>ra</th><th>dec</th><th>NEW_SOURCE</th><th>ISGRI_FLAG</th><th>FLAG</th><th>ERR_RAD</th></tr></thead>\n",
       "<thead><tr><th></th><th></th><th></th><th>deg</th><th>deg</th><th></th><th></th><th></th><th></th></tr></thead>\n",
       "<thead><tr><th>int64</th><th>str14</th><th>float64</th><th>float64</th><th>float64</th><th>int64</th><th>int64</th><th>int64</th><th>float64</th></tr></thead>\n",
       "<tr><td>3</td><td>1E 1740.7-2942</td><td>14.02076244354248</td><td>265.97607421875</td><td>-29.75826644897461</td><td>-32768</td><td>2</td><td>0</td><td>2.9999999242136255e-05</td></tr>\n",
       "<tr><td>36</td><td>GRO J1719-24</td><td>113.27212524414062</td><td>259.9058837890625</td><td>-25.02088165283203</td><td>-32768</td><td>2</td><td>0</td><td>0.00014000000373926014</td></tr>\n",
       "<tr><td>44</td><td>GRS 1758-258</td><td>7.533890247344971</td><td>270.2437744140625</td><td>-25.748001098632812</td><td>-32768</td><td>2</td><td>0</td><td>0.0002800000074785203</td></tr>\n",
       "<tr><td>45</td><td>GX 1+4</td><td>44.93584442138672</td><td>263.0091552734375</td><td>-24.742778778076172</td><td>-32768</td><td>2</td><td>0</td><td>0.0002800000074785203</td></tr>\n",
       "<tr><td>210</td><td>KS 1741-293</td><td>9.441457748413086</td><td>266.2197570800781</td><td>-29.39611053466797</td><td>-32768</td><td>1</td><td>0</td><td>0.009999999776482582</td></tr>\n",
       "<tr><td>0</td><td>Her X-1</td><td>0.0</td><td>254.45754</td><td>35.34233</td><td>0</td><td>1</td><td>0</td><td>0.0</td></tr>\n",
       "</table></div>"
      ],
      "text/plain": [
       "<Table length=6>\n",
       "meta_ID   src_names       significance    ...  FLAG        ERR_RAD        \n",
       "                                          ...                             \n",
       " int64      str14           float64       ... int64        float64        \n",
       "------- -------------- ------------------ ... ----- ----------------------\n",
       "      3 1E 1740.7-2942  14.02076244354248 ...     0 2.9999999242136255e-05\n",
       "     36   GRO J1719-24 113.27212524414062 ...     0 0.00014000000373926014\n",
       "     44   GRS 1758-258  7.533890247344971 ...     0  0.0002800000074785203\n",
       "     45         GX 1+4  44.93584442138672 ...     0  0.0002800000074785203\n",
       "    210    KS 1741-293  9.441457748413086 ...     0   0.009999999776482582\n",
       "      0        Her X-1                0.0 ...     0                    0.0"
      ]
     },
     "execution_count": 185,
     "metadata": {},
     "output_type": "execute_result"
    }
   ],
   "source": [
    "oda_api.data_products.ApiCatalog(json.loads(api_cat)).table"
   ]
  },
  {
   "cell_type": "code",
   "execution_count": 215,
   "metadata": {},
   "outputs": [
    {
     "data": {
      "text/plain": [
       "'171500480010.001'"
      ]
     },
     "execution_count": 215,
     "metadata": {},
     "output_type": "execute_result"
    }
   ],
   "source": [
    "scw_list_str"
   ]
  },
  {
   "cell_type": "code",
   "execution_count": 222,
   "metadata": {
    "scrolled": true
   },
   "outputs": [
    {
     "name": "stderr",
     "output_type": "stream",
     "text": [
      "2021-09-28 20:03:15 87be31766f34 oda_api.token[468] INFO decoding token with jwt and NOT verifying\n",
      "2021-09-28 20:03:15 87be31766f34 oda_api.token[468] INFO found token in environment variable ODA_TOKEN your token payload: {\n",
      "    \"email\": \"Volodymyr.Savchenko@unige.ch\",\n",
      "    \"exp\": 1634486483.5381484,\n",
      "    \"msdone\": false,\n",
      "    \"mssub\": false,\n",
      "    \"name\": \"sitamin\",\n",
      "    \"roles\": \"authenticated user, administrator, content manager, general, integral-private-qla, magic, unige-hpc-full, public-pool-hpc, antares\",\n",
      "    \"sub\": \"Volodymyr.Savchenko@unige.ch\"\n",
      "}\n",
      "2021-09-28 20:03:15 87be31766f34 oda_api.token[468] INFO token expires in 452.0 h\n",
      "2021-09-28 20:03:15 87be31766f34 oda_api.api.dispatcherapi.progress[468] INFO - waiting for remote response (since 2021-09-28 20:03:15), please wait for https://www.astro.unige.ch/mmoda/dispatch-data//run_analysis\n",
      "2021-09-28 20:03:40 87be31766f34 oda_api.api[468] INFO session: D9AFZA5VPUEMOPJ8 job: 81ddf178197c78eb\n",
      "2021-09-28 20:03:40 87be31766f34 oda_api.api.dispatcherapi[468] INFO \n",
      "... query status \u001b[35mprepared\u001b[0m => \u001b[35mdone\u001b[0m\n",
      "2021-09-28 20:03:40 87be31766f34 oda_api.api.dispatcherapi[468] INFO ... assigned job id: \u001b[33m81ddf178197c78eb\u001b[0m\n",
      "2021-09-28 20:03:40 87be31766f34 oda_api.api.dispatcherapi[468] INFO \u001b[32mquery COMPLETED SUCCESSFULLY (state done)\u001b[0m\n",
      "2021-09-28 20:03:40 87be31766f34 oda_api.api.dispatcherapi[468] INFO query complete: terminating\n"
     ]
    },
    {
     "data": {
      "text/plain": [
       "{'Her X-1': <oda_api.data_products.NumpyDataProduct at 0x7fd5702b1d60>,\n",
       " 'Background': <oda_api.data_products.NumpyDataProduct at 0x7fd58655e0a0>}"
      ]
     },
     "execution_count": 222,
     "metadata": {},
     "output_type": "execute_result"
    }
   ],
   "source": [
    "spectrum = disp.get_product(instrument=\"isgri\", \n",
    "                 product=\"isgri_spectrum\", \n",
    "                 product_type=\"Real\", \n",
    "                 osa_version=osa_version,\n",
    "                 E1_keV=35.0,\n",
    "                 E2_keV=80.0,\n",
    "                 integral_data_rights=integral_data_rights,\n",
    "                 scw_list=scw_list_str,\n",
    "                 token=oda_api.token.discover_token(),\n",
    "                 selected_catalog=api_cat,\n",
    "                 max_pointings=50)\n",
    "\n",
    "{l.meta_data['src_name']:l for l in spectrum._p_list if l.meta_data['src_name']}"
   ]
  },
  {
   "cell_type": "code",
   "execution_count": 223,
   "metadata": {},
   "outputs": [],
   "source": [
    "specprod=[l for l in spectrum._p_list if l.meta_data['src_name'] == source_name]    \n",
    "\n",
    "spec_fn=\"/tmp/isgri_spectrum_{}.fits\".format(source_name.replace(' ', '_').replace('+','p'))\n",
    "arf_fn=\"/tmp/isgri_arf_{}.fits\".format(source_name.replace(' ', '_').replace('+','p'))\n",
    "rmf_fn=\"/tmp/isgri_rmf_{}.fits\".format(source_name.replace(' ', '_').replace('+','p'))\n",
    "\n",
    "specprod[0].write_fits_file(spec_fn)\n",
    "specprod[1].write_fits_file(arf_fn)\n",
    "specprod[2].write_fits_file(rmf_fn)"
   ]
  },
  {
   "cell_type": "code",
   "execution_count": 224,
   "metadata": {},
   "outputs": [
    {
     "name": "stdout",
     "output_type": "stream",
     "text": [
      "writing reference_spec_A.fits\n",
      "writing reference_rmf_A.fits\n",
      "writing reference_bkg_A.fits\n",
      "writing\n",
      "writing reference_spec_B.fits\n",
      "writing reference_rmf_B.fits\n",
      "writing reference_bkg_B.fits\n",
      "writing\n"
     ]
    }
   ],
   "source": [
    "from astropy.io import fits\n",
    "\n",
    "for s, b, r, a in zip(reference_spectra, reference_backs, reference_rmfs, reference_arfs):\n",
    "\n",
    "    fs=fits.open(reference_dir+\"/\"+s)\n",
    "    fr=fits.open(reference_dir+\"/\"+r)\n",
    "    fb=fits.open(reference_dir+\"/\"+b)\n",
    "    fa=fits.open(reference_dir+\"/\"+a)\n",
    "    \n",
    "\n",
    "    fs[2].header['RESPFILE'] = 'NONE'\n",
    "    fs[2].header['ANCRFILE'] = 'NONE'\n",
    "    fs[2].header['BACKFILE'] = 'NONE'\n",
    "    \n",
    "    #f[2].header['RESPFILE']\n",
    "    if \"A\" in s:\n",
    "        fn = \"reference_spec_A.fits\"\n",
    "    else:\n",
    "        fn = \"reference_spec_B.fits\"\n",
    "        \n",
    "    print(\"writing\", fn)        \n",
    "    fs.writeto(fn, overwrite=True)\n",
    "    \n",
    "    if 'A' in r:\n",
    "        fn = \"reference_rmf_A.fits\"\n",
    "    else:\n",
    "        fn = \"reference_rmf_B.fits\"\n",
    "        \n",
    "    print(\"writing\", fn)        \n",
    "    fr.writeto(fn, overwrite=True)\n",
    "    \n",
    "    if 'A' in b:\n",
    "        fn = \"reference_bkg_A.fits\"\n",
    "    else:\n",
    "        fn = \"reference_bkg_B.fits\"\n",
    "\n",
    "    print(\"writing\", fn)        \n",
    "    fb.writeto(fn, overwrite=True)\n",
    "    \n",
    "    if 'A' in a:\n",
    "        fn = \"reference_arf_A.fits\"\n",
    "    else:\n",
    "        fn = \"reference_arf_B.fits\"\n",
    "        \n",
    "    print(\"writing\")\n",
    "    fa.writeto(fn, overwrite=True)\n",
    "    \n",
    "    fs.close()\n",
    "    fb.close()\n",
    "    fa.close()\n",
    "    fr.close()\n"
   ]
  },
  {
   "cell_type": "code",
   "execution_count": null,
   "metadata": {
    "tags": [
     "outputs"
    ]
   },
   "outputs": [],
   "source": [
    "reference_spec_A=\"reference_spec_A.fits\"\n",
    "reference_spec_B=\"reference_spec_B.fits\"\n",
    "reference_arf_A=\"reference_arf_A.fits\"\n",
    "reference_arf_B=\"reference_arf_B.fits\"\n",
    "reference_rmf_A=\"reference_rmf_A.fits\"\n",
    "reference_rmf_B=\"reference_rmf_B.fits\"\n",
    "reference_bkg_A=\"reference_bkg_A.fits\"\n",
    "reference_bkg_B=\"reference_bkg_B.fits\"\n",
    "isgri_spec=spec_fn\n",
    "isgri_arf=arf_fn\n",
    "isgri_rmf=rmf_fn"
   ]
  }
 ],
 "metadata": {
  "celltoolbar": "Tags",
  "kernelspec": {
   "display_name": "Python 3",
   "language": "python",
   "name": "python3"
  },
  "language_info": {
   "codemirror_mode": {
    "name": "ipython",
    "version": 3
   },
   "file_extension": ".py",
   "mimetype": "text/x-python",
   "name": "python",
   "nbconvert_exporter": "python",
   "pygments_lexer": "ipython3",
   "version": "3.8.2"
  }
 },
 "nbformat": 4,
 "nbformat_minor": 2
}
