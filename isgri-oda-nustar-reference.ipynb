{
 "cells": [
  {
   "cell_type": "code",
   "execution_count": 1,
   "metadata": {
    "tags": [
     "parameters"
    ]
   },
   "outputs": [],
   "source": [
    "subcases_pattern=\"1461_Nustar\"\n",
    "reference_location=\"../..\"\n",
    "source_name=\"Crab\"\n",
    "osa_version='OSA10.2'\n",
    "nscw=3\n",
    "mosaic=0\n",
    "chi2_limit=1.2\n",
    "systematic_fraction=0.01\n",
    "search_time=15 #search time of INTEGRAL DATA around the time of observation (days)"
   ]
  },
  {
   "cell_type": "code",
   "execution_count": 2,
   "metadata": {},
   "outputs": [],
   "source": [
    "if reference_location == 'None':\n",
    "    import subprocess\n",
    "    logfile_name = 'log_download_reference.txt'\n",
    "    logfile = open(logfile_name, 'w')\n",
    "    cmd = 'wget https://www.isdc.unige.ch/~ferrigno/Downloads/subcases_herX1_nustar.tgz;tar xfz subcases_herX1_nustar.tgz;rm subcases_herX1_nustar.tgz'\n",
    "    # cmd='pwd;ls'\n",
    "    out = subprocess.call(cmd, stdout=logfile, stderr=logfile, shell=True)\n",
    "    logfile.close()\n",
    "    if out != 0:\n",
    "        print('Exit status of download and decompression is %d')\n",
    "        raise RuntimeError\n",
    "    \n",
    "    reference_location='.'"
   ]
  },
  {
   "cell_type": "markdown",
   "metadata": {},
   "source": [
    "#  ISGRI verification with NuSTAR reference\n",
    "\n",
    "simultaneous observations allow easy comparisong\n",
    "\n",
    "normalization need to be fitted and reported"
   ]
  },
  {
   "cell_type": "code",
   "execution_count": 3,
   "metadata": {},
   "outputs": [],
   "source": [
    "%matplotlib notebook\n",
    "#import matplotlib.pylab as plt\n",
    "\n",
    "\n",
    "import numpy as np\n",
    "import importlib\n",
    "from astroquery.simbad import Simbad\n",
    "from astropy import coordinates as coord\n",
    "import os\n",
    "import numpy as np\n",
    "import glob\n",
    "\n",
    "from astropy.io import fits as pf\n",
    "from astropy.time import Time\n",
    "from astropy.time import TimeDelta\n",
    "\n",
    "from astropy import table\n",
    "\n"
   ]
  },
  {
   "cell_type": "code",
   "execution_count": 4,
   "metadata": {},
   "outputs": [],
   "source": [
    "\n",
    "import requests\n",
    "url=\"https://www.astro.unige.ch/cdci/astrooda/dispatch-data/gw/timesystem/api/v1.0/scwlist/cons/\"\n",
    "def get_scw_list(ra,dec,time, delta_time): #time in UTC T (2019-06-23T16:53:39.000), deltat in days\n",
    "    \n",
    "#     result_table = Simbad.query_object(source_name)\n",
    "#     source_coord = coord.SkyCoord(result_table['RA'][0], result_table['DEC'][0], unit=(\"hourangle\", \"deg\"))\n",
    "\n",
    "#     ra=source_coord.ra.deg\n",
    "#     dec=source_coord.dec.deg\n",
    "    \n",
    "    dt = TimeDelta(delta_time)\n",
    "    \n",
    "    Tstart = Time(time) - dt\n",
    "    Tstop  = Time(time) + dt\n",
    "    \n",
    "    Tstart.format='isot'\n",
    "    Tstop.format='isot'\n",
    "    \n",
    "    \n",
    "    params=Tstart.value+'/'+Tstop.value+'?&ra='+str(ra)+'&dec='+str(dec)+'&radius='+str(6.0)+'&min_good_isgri=1000'\n",
    "    print(url+params)\n",
    "    return requests.get(url+params).json() #,cookies=cookies).json()\n",
    "\n"
   ]
  },
  {
   "cell_type": "code",
   "execution_count": 5,
   "metadata": {},
   "outputs": [
    {
     "data": {
      "text/plain": [
       "'../..'"
      ]
     },
     "execution_count": 5,
     "metadata": {},
     "output_type": "execute_result"
    }
   ],
   "source": [
    "reference_location\n",
    "\n",
    "# if reference_location  not git or http may be a problem\n",
    "# dependency injection for this, if can"
   ]
  },
  {
   "cell_type": "code",
   "execution_count": 6,
   "metadata": {},
   "outputs": [
    {
     "name": "stdout",
     "output_type": "stream",
     "text": [
      "inspecting ../../subcases/Crab_1461_Nustar\n",
      "../../subcases/Crab_1461_Nustar/FPMA_sr_rbn.pi\n",
      "https://www.astro.unige.ch/cdci/astrooda/dispatch-data/gw/timesystem/api/v1.0/scwlist/cons/2014-09-17T06:26:07.000/2014-10-17T06:26:07.000?&ra=83.63303&dec=22.01447&radius=6.0&min_good_isgri=1000\n",
      "2014-10-02T06:26:07.000\n"
     ]
    }
   ],
   "source": [
    "\n",
    "subcase=None\n",
    "reference_spectra = None\n",
    "\n",
    "for subcase_dir in glob.glob(reference_location+\"/subcases/*\"+subcases_pattern+\"*\"):\n",
    "    print(\"inspecting\", subcase_dir)\n",
    "    \n",
    "    fns = [os.path.basename(fn) for fn in sorted(glob.glob(subcase_dir+\"/*\"))]\n",
    "    \n",
    "    try:\n",
    "        #If it is rebinned with my script\n",
    "        reference_spectra = [fn for fn in fns if fn.endswith(\"rbn.pi\")]\n",
    "        \n",
    "        reference_rmfs = [fn for fn in fns if fn.endswith(\"sr.rmf\") or fn.endswith(\"sr.rmf.gz\")]\n",
    "        \n",
    "        reference_arfs = [fn for fn in fns if fn.endswith(\"sr.arf\")]\n",
    "        \n",
    "        reference_backs = [fn for fn in fns if fn.endswith(\"bk.pha\")]\n",
    "        \n",
    "    except: \n",
    "        print(\"Not found Nustar Files in \" + subcase_dir)\n",
    "        continue\n",
    "        \n",
    "    \n",
    "    try:\n",
    "        print(subcase_dir+'/'+reference_spectra[0])\n",
    "        spec=pf.open(subcase_dir+'/'+reference_spectra[0])\n",
    "\n",
    "        t1=Time(spec[1].header['DATE-OBS'])\n",
    "        t2=Time(spec[1].header['DATE-END'])\n",
    "\n",
    "        ra=spec[1].header['RA_OBJ']\n",
    "        dec=spec[1].header['DEC_OBJ']\n",
    "\n",
    "        delta_time = (t2 - t1 )/2\n",
    "\n",
    "        time=t1+delta_time\n",
    "\n",
    "        spec.close()\n",
    "\n",
    "\n",
    "        scwlist= get_scw_list(ra,dec, time, search_time)\n",
    "        print(time)\n",
    "        \n",
    "        #print(scwlist)\n",
    "    except:\n",
    "        print(\"Not getting times\")\n",
    "        continue\n",
    "    \n",
    "   \n",
    "        \n",
    "    #print(fns)\n",
    "    \n",
    "    reference_dir=subcase_dir\n",
    "    \n",
    "    #print(\"found\",reference_dir, reference_spectra, len(scwlist),len(ref_sources), ref_sources)\n",
    "        \n",
    "    break\n",
    "        \n",
    "if len(list(zip(reference_spectra, reference_backs, reference_rmfs, reference_arfs))) == 0:\n",
    "    raise Exception(f\"no compatible NuSTAR spectra found; last fns tried {fns}\")\n",
    "#reference_spectra, reference_rmfs\n"
   ]
  },
  {
   "cell_type": "code",
   "execution_count": 7,
   "metadata": {},
   "outputs": [
    {
     "name": "stdout",
     "output_type": "stream",
     "text": [
      "searching for coordinates of Crab\n"
     ]
    },
    {
     "data": {
      "text/html": [
       "<i>Table length=1</i>\n",
       "<table id=\"table140061151100496\" class=\"table-striped table-bordered table-condensed\">\n",
       "<thead><tr><th>MAIN_ID</th><th>RA</th><th>DEC</th><th>RA_PREC</th><th>DEC_PREC</th><th>COO_ERR_MAJA</th><th>COO_ERR_MINA</th><th>COO_ERR_ANGLE</th><th>COO_QUAL</th><th>COO_WAVELENGTH</th><th>COO_BIBCODE</th></tr></thead>\n",
       "<thead><tr><th></th><th>&quot;h:m:s&quot;</th><th>&quot;d:m:s&quot;</th><th></th><th></th><th>mas</th><th>mas</th><th>deg</th><th></th><th></th><th></th></tr></thead>\n",
       "<thead><tr><th>object</th><th>str13</th><th>str13</th><th>int16</th><th>int16</th><th>float32</th><th>float32</th><th>int16</th><th>str1</th><th>str1</th><th>object</th></tr></thead>\n",
       "<tr><td>M   1</td><td>05 34 31.94</td><td>+22 00 52.2</td><td>6</td><td>6</td><td>--</td><td>--</td><td>0</td><td>C</td><td>R</td><td>2011A&amp;A...533A..10L</td></tr>\n",
       "</table>"
      ],
      "text/plain": [
       "<Table length=1>\n",
       "MAIN_ID      RA         DEC     ... COO_QUAL COO_WAVELENGTH     COO_BIBCODE    \n",
       "          \"h:m:s\"     \"d:m:s\"   ...                                            \n",
       " object    str13       str13    ...   str1        str1             object      \n",
       "------- ----------- ----------- ... -------- -------------- -------------------\n",
       "  M   1 05 34 31.94 +22 00 52.2 ...        C              R 2011A&A...533A..10L"
      ]
     },
     "execution_count": 7,
     "metadata": {},
     "output_type": "execute_result"
    }
   ],
   "source": [
    "print(\"searching for coordinates of\", source_name)\n",
    "\n",
    "result_table = Simbad.query_object(source_name)\n",
    "source_coord = coord.SkyCoord(result_table['RA'][0], result_table['DEC'][0], unit=(\"hourangle\", \"deg\"))\n",
    "\n",
    "result_table"
   ]
  },
  {
   "cell_type": "code",
   "execution_count": 8,
   "metadata": {},
   "outputs": [
    {
     "data": {
      "text/plain": [
       "'146200380010.001,146200470010.001,146100180010.001'"
      ]
     },
     "execution_count": 8,
     "metadata": {},
     "output_type": "execute_result"
    }
   ],
   "source": [
    "import random\n",
    "if nscw >0:\n",
    "    random.seed(0)\n",
    "    scw_pick = random.sample([\n",
    "                s+\".\"+\"001\"\n",
    "                for s in list(sorted(set( scwlist  ))) \n",
    "                if s.endswith(\"0010\")\n",
    "            ],nscw)\n",
    "\n",
    "\n",
    "    scw_list_str = \",\".join(scw_pick)\n",
    "else:\n",
    "    scw_list_str=\",\".join([s+\".\"+\"001\" for s in sorted(set( scwlist  ))])\n",
    "\n",
    "#print(len(scw_list_str))\n",
    "\n",
    "scw_list_str"
   ]
  },
  {
   "cell_type": "code",
   "execution_count": 9,
   "metadata": {},
   "outputs": [
    {
     "name": "stdout",
     "output_type": "stream",
     "text": [
      "\n",
      "--------------\n",
      "instrumet: isgri\n",
      "\n",
      "--------------\n",
      "query_name: src_query\n",
      " name: src_name,  value: test,  units: str, \n",
      " name: RA,  value: 0.0,  units: deg, \n",
      " name: DEC,  value: 0.0,  units: deg, \n",
      " name: T1,  value: 2001-12-11T00:00:00.000,  units: None, \n",
      " name: T2,  value: 2001-12-11T00:00:00.000,  units: None, \n",
      "\n",
      "--------------\n",
      "query_name: isgri_parameters\n",
      " name: user_catalog,  value: None,  units: str, \n",
      " name: scw_list,  value: [],  units: names_list, \n",
      " name: selected_catalog,  value: None,  units: str, \n",
      " name: radius,  value: 5.0,  units: deg, \n",
      " name: max_pointings,  value: 50,  units: None, \n",
      " name: osa_version,  value: None,  units: str, \n",
      " name: E1_keV,  value: 10.0,  units: keV, \n",
      " name: E2_keV,  value: 40.0,  units: keV, \n",
      "\n",
      "--------------\n",
      "query_name: isgri_image_query\n",
      " product_name: isgri_image\n",
      " name: detection_threshold,  value: 0.0,  units: sigma, \n",
      " name: image_scale_min,  value: None,  units: None, \n",
      " name: image_scale_max,  value: None,  units: None, \n",
      "\n",
      "--------------\n",
      "query_name: isgri_spectrum_query\n",
      " product_name: isgri_spectrum\n",
      "\n",
      "--------------\n",
      "query_name: isgri_lc_query\n",
      " product_name: isgri_lc\n",
      " name: time_bin,  value: 1000.0,  units: sec, \n",
      "\n",
      "--------------\n",
      "query_name: spectral_fit_query\n",
      " product_name: spectral_fit\n",
      " name: xspec_model,  value: powerlaw,  units: str, \n",
      " name: ph_file_name,  value: ,  units: str, \n",
      " name: arf_file_name,  value: ,  units: str, \n",
      " name: rmf_file_name,  value: ,  units: str, \n"
     ]
    }
   ],
   "source": [
    "import oda_api.api\n",
    "import importlib\n",
    "importlib.reload(oda_api)\n",
    "\n",
    "try:\n",
    "    disp = oda_api.api.DispatcherAPI(host=\"http://cdcihn/staging-1.2/dispatcher\")\n",
    "    disp.get_instrument_description(\"isgri\")\n",
    "except:\n",
    "    try:\n",
    "        disp = oda_api.api.DispatcherAPI(host='https://www.astro.unige.ch/cdci/astrooda/dispatch-data')\n",
    "        disp.get_instrument_description(\"isgri\")\n",
    "    except:\n",
    "        raise ConnectionError\n",
    "\n",
    "\n",
    "\n"
   ]
  },
  {
   "cell_type": "code",
   "execution_count": 10,
   "metadata": {},
   "outputs": [
    {
     "name": "stdout",
     "output_type": "stream",
     "text": [
      "146200380010.001,146200470010.001,146100180010.001\n",
      "- waiting for remote response, please wait run_analysis http://cdcihn/staging-1.2/dispatcher\n",
      "osa_version OSA10.2\n",
      "E1_keV 28\n",
      "E2_keV 80.0\n",
      "scw_list 146200380010.001,146200470010.001,146100180010.001\n",
      "instrument isgri\n",
      "product_type isgri_image\n",
      "query_type Real\n",
      "off_line (False,)\n",
      "query_status ('new',)\n",
      "verbose (False,)\n",
      "session_id Q65ZT4WN6ISIGQ8J\n",
      "dry_run (False,)\n",
      "api True\n",
      "oda_api_version 1.0.2\n",
      "\n",
      "\n",
      "query done succesfully!\n"
     ]
    }
   ],
   "source": [
    "\n",
    "mosaic=1\n",
    "\n",
    "if mosaic == 1:\n",
    "\n",
    "    for c_emin in [28]:\n",
    "\n",
    "        image = disp.get_product(instrument=\"isgri\", \n",
    "                         product=\"isgri_image\", \n",
    "                         product_type=\"Real\", \n",
    "                         osa_version=osa_version,\n",
    "                         E1_keV=np.round(c_emin),\n",
    "                         E2_keV=80.0,\n",
    "                         scw_list=scw_list_str)\n",
    "\n",
    "        sources=image.dispatcher_catalog_1.table[image.dispatcher_catalog_1.table['significance']>=6.0]\n",
    "        #source = sources[sources['src_names']==source_name]\n",
    "        unique_sources=table.unique(sources, keys=['src_names'])\n",
    "        \n",
    "        #print(source)\n",
    "\n",
    "#         d=image.mosaic_image_0.data_unit[1].data\n",
    "\n",
    "\n",
    "#         img=np.array(d.data)\n",
    "\n",
    "#         m_bkg=img<10\n",
    "#         m_bkg&=img!=0\n",
    "\n",
    "#         img_std = np.std(img[m_bkg])\n",
    "\n",
    "#         img[np.array(img)>img_std*5]=img_std*5\n",
    "\n",
    "        #plt.imshow(img)\n",
    "\n",
    "#         by_lt['%.10lg'%c_emin]=dict(\n",
    "#             emin=c_emin,            \n",
    "#             imgstd=img_std,\n",
    "#         )\n",
    "#         by_lt['%.10lg'%c_emin].update(dict([(n, source[n]) for n in source.colnames]))\n",
    "\n",
    "        \n",
    "#     for ltb, c in by_lt.items():\n",
    "#         print(lt, c['significance'],c['significance']/c['imgstd'])"
   ]
  },
  {
   "cell_type": "code",
   "execution_count": 11,
   "metadata": {},
   "outputs": [],
   "source": [
    "##Removes new sources and adds our if not found\n",
    "FLAG=0\n",
    "torm=[]\n",
    "for ID,n in enumerate(unique_sources['src_names']):\n",
    "    if(n[0:3]=='NEW'):\n",
    "        torm.append(ID)\n",
    "    if(n==source_name):\n",
    "        FLAG=1\n",
    "\n",
    "unique_sources.remove_rows(torm)\n",
    "nrows=len(unique_sources['src_names'])\n",
    "\n",
    "if FLAG==0:\n",
    "    unique_sources.add_row((0,source_name,0,ra,dec,0,2,0,0))\n",
    "\n",
    "image.dispatcher_catalog_1.table = unique_sources\n",
    "\n",
    "api_cat=image.dispatcher_catalog_1.get_api_dictionary()\n",
    "\n"
   ]
  },
  {
   "cell_type": "code",
   "execution_count": 12,
   "metadata": {},
   "outputs": [
    {
     "name": "stdout",
     "output_type": "stream",
     "text": [
      "146200380010.001,146200470010.001,146100180010.001\n",
      "- waiting for remote response, please wait run_analysis http://cdcihn/staging-1.2/dispatcher\n",
      "osa_version OSA10.2\n",
      "E1_keV 25.0\n",
      "E2_keV 80.0\n",
      "scw_list 146200380010.001,146200470010.001,146100180010.001\n",
      "selected_cat {\"cat_frame\": \"fk5\", \"cat_coord_units\": \"deg\", \"cat_column_list\": [[3], [\"Crab\"], [345.2102355957031], [83.6318130493164], [22.014904022216797], [-32768], [2], [0], [0.0002800000074785203]], \"cat_column_names\": [\"meta_ID\", \"src_names\", \"significance\", \"ra\", \"dec\", \"NEW_SOURCE\", \"ISGRI_FLAG\", \"FLAG\", \"ERR_RAD\"], \"cat_column_descr\": [[\"meta_ID\", \"<i8\"], [\"src_names\", \"<U18\"], [\"significance\", \"<f8\"], [\"ra\", \"<f8\"], [\"dec\", \"<f8\"], [\"NEW_SOURCE\", \"<i8\"], [\"ISGRI_FLAG\", \"<i8\"], [\"FLAG\", \"<i8\"], [\"ERR_RAD\", \"|O\"]], \"cat_lat_name\": \"dec\", \"cat_lon_name\": \"ra\"}\n",
      "instrument isgri\n",
      "product_type isgri_spectrum\n",
      "query_type Real\n",
      "off_line (False,)\n",
      "query_status ('new',)\n",
      "verbose (False,)\n",
      "session_id TGEV49GW1UN9427Q\n",
      "dry_run (False,)\n",
      "api True\n",
      "oda_api_version 1.0.2\n"
     ]
    },
    {
     "name": "stderr",
     "output_type": "stream",
     "text": [
      "/pyenv/versions/3.8.2/lib/python3.8/site-packages/oda_api/api.py:326: UserWarning: \n",
      "----------------------------------------------------------------------------\n",
      "the parameter: selected_cat   is not among valid ones:\n",
      "['src_name', 'RA', 'DEC', 'T1', 'T2', 'scw_list', 'selected_catalog', 'radius', 'max_pointings', 'osa_version', 'E1_keV', 'E2_keV']\n",
      "this will throw an error in a future version \n",
      "and might breack the current request!\n",
      " ----------------------------------------------------------------------------\n",
      "\n",
      "  warnings.warn(msg)\n"
     ]
    },
    {
     "name": "stdout",
     "output_type": "stream",
     "text": [
      "\r\n",
      "\n",
      "query done succesfully!\n"
     ]
    }
   ],
   "source": [
    "spectrum = disp.get_product(instrument=\"isgri\", \n",
    "                 product=\"isgri_spectrum\", \n",
    "                 product_type=\"Real\", \n",
    "                 osa_version=osa_version,\n",
    "                 E1_keV=25.0,\n",
    "                 E2_keV=80.0,\n",
    "                 scw_list=scw_list_str,\n",
    "                 selected_cat=api_cat)"
   ]
  },
  {
   "cell_type": "code",
   "execution_count": 13,
   "metadata": {},
   "outputs": [
    {
     "name": "stderr",
     "output_type": "stream",
     "text": [
      "WARNING: VerifyWarning: Keyword name 'instrument' is greater than 8 characters or contains characters not allowed by the FITS standard; a HIERARCH card will be created. [astropy.io.fits.card]\n",
      "WARNING: VerifyWarning: Keyword name 'oda_api_version' is greater than 8 characters or contains characters not allowed by the FITS standard; a HIERARCH card will be created. [astropy.io.fits.card]\n",
      "WARNING: VerifyWarning: Keyword name 'osa_version' is greater than 8 characters or contains characters not allowed by the FITS standard; a HIERARCH card will be created. [astropy.io.fits.card]\n",
      "WARNING: VerifyWarning: Keyword name 'product_type' is greater than 8 characters or contains characters not allowed by the FITS standard; a HIERARCH card will be created. [astropy.io.fits.card]\n",
      "WARNING: VerifyWarning: Keyword name 'query_status' is greater than 8 characters or contains characters not allowed by the FITS standard; a HIERARCH card will be created. [astropy.io.fits.card]\n",
      "WARNING: VerifyWarning: Keyword name 'query_type' is greater than 8 characters or contains characters not allowed by the FITS standard; a HIERARCH card will be created. [astropy.io.fits.card]\n",
      "WARNING: VerifyWarning: Keyword name 'session_id' is greater than 8 characters or contains characters not allowed by the FITS standard; a HIERARCH card will be created. [astropy.io.fits.card]\n"
     ]
    }
   ],
   "source": [
    "specprod=[l for l in spectrum._p_list if l.meta_data['src_name'] == source_name]    \n",
    "\n",
    "spec_fn=\"/tmp/isgri_spectrum_{}.fits\".format(source_name.replace(' ', '_'))\n",
    "arf_fn=\"/tmp/isgri_arf_{}.fits\".format(source_name.replace(' ', '_'))\n",
    "rmf_fn=\"/tmp/isgri_rmf_{}.fits\".format(source_name.replace(' ', '_'))\n",
    "\n",
    "specprod[0].write_fits_file(spec_fn)\n",
    "specprod[1].write_fits_file(arf_fn)\n",
    "specprod[2].write_fits_file(rmf_fn)"
   ]
  },
  {
   "cell_type": "code",
   "execution_count": 14,
   "metadata": {},
   "outputs": [
    {
     "name": "stdout",
     "output_type": "stream",
     "text": [
      "writing reference_spec_A.fits\n",
      "writing reference_rmf_A.fits\n",
      "writing reference_bkg_A.fits\n",
      "writing\n",
      "writing reference_spec_B.fits\n",
      "writing reference_rmf_B.fits\n",
      "writing reference_bkg_B.fits\n",
      "writing\n"
     ]
    }
   ],
   "source": [
    "from astropy.io import fits\n",
    "\n",
    "for s, b, r, a in zip(reference_spectra, reference_backs, reference_rmfs, reference_arfs):\n",
    "\n",
    "    fs=fits.open(reference_dir+\"/\"+s)\n",
    "    fr=fits.open(reference_dir+\"/\"+r)\n",
    "    fb=fits.open(reference_dir+\"/\"+b)\n",
    "    fa=fits.open(reference_dir+\"/\"+a)\n",
    "    \n",
    "\n",
    "    fs[2].header['RESPFILE'] = 'NONE'\n",
    "    fs[2].header['ANCRFILE'] = 'NONE'\n",
    "    fs[2].header['BACKFILE'] = 'NONE'\n",
    "    \n",
    "    #f[2].header['RESPFILE']\n",
    "    if \"A\" in s:\n",
    "        fn = \"reference_spec_A.fits\"\n",
    "    else:\n",
    "        fn = \"reference_spec_B.fits\"\n",
    "        \n",
    "    print(\"writing\", fn)        \n",
    "    fs.writeto(fn, overwrite=True)\n",
    "    \n",
    "    if 'A' in r:\n",
    "        fn = \"reference_rmf_A.fits\"\n",
    "    else:\n",
    "        fn = \"reference_rmf_B.fits\"\n",
    "        \n",
    "    print(\"writing\", fn)        \n",
    "    fr.writeto(fn, overwrite=True)\n",
    "    \n",
    "    if 'A' in b:\n",
    "        fn = \"reference_bkg_A.fits\"\n",
    "    else:\n",
    "        fn = \"reference_bkg_B.fits\"\n",
    "\n",
    "    print(\"writing\", fn)        \n",
    "    fb.writeto(fn, overwrite=True)\n",
    "    \n",
    "    if 'A' in a:\n",
    "        fn = \"reference_arf_A.fits\"\n",
    "    else:\n",
    "        fn = \"reference_arf_B.fits\"\n",
    "        \n",
    "    print(\"writing\")\n",
    "    fa.writeto(fn, overwrite=True)\n",
    "    \n",
    "    fs.close()\n",
    "    fb.close()\n",
    "    fa.close()\n",
    "    fr.close()\n"
   ]
  },
  {
   "cell_type": "code",
   "execution_count": 15,
   "metadata": {
    "tags": [
     "outputs"
    ]
   },
   "outputs": [],
   "source": [
    "reference_spec_A=\"reference_spec_A.fits\"\n",
    "reference_spec_B=\"reference_spec_B.fits\"\n",
    "reference_arf_A=\"reference_arf_A.fits\"\n",
    "reference_arf_B=\"reference_arf_B.fits\"\n",
    "reference_rmf_A=\"reference_rmf_A.fits\"\n",
    "reference_rmf_B=\"reference_rmf_B.fits\"\n",
    "reference_bkg_A=\"reference_bkg_A.fits\"\n",
    "reference_bkg_B=\"reference_bkg_B.fits\"\n",
    "isgri_spec=spec_fn\n",
    "isgri_arf=arf_fn\n",
    "isgri_rmf=rmf_fn"
   ]
  }
 ],
 "metadata": {
  "celltoolbar": "Tags",
  "kernelspec": {
   "display_name": "Python 3",
   "language": "python",
   "name": "python3"
  },
  "language_info": {
   "codemirror_mode": {
    "name": "ipython",
    "version": 3
   },
   "file_extension": ".py",
   "mimetype": "text/x-python",
   "name": "python",
   "nbconvert_exporter": "python",
   "pygments_lexer": "ipython3",
   "version": "3.8.2"
  }
 },
 "nbformat": 4,
 "nbformat_minor": 2
}
