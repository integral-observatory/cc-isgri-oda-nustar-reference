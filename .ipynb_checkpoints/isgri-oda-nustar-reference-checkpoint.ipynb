{
 "cells": [
  {
   "cell_type": "code",
   "execution_count": 43,
   "metadata": {
    "tags": [
     "parameters"
    ]
   },
   "outputs": [],
   "source": [
    "subcases_pattern=\"_2\"\n",
    "reference_location=\"../..\"\n",
    "source_name=\"Her X-1\"\n",
    "osa_version='OSA11.0'\n",
    "nscw=3\n",
    "mosaic=0\n",
    "chi2_limit=1.2\n",
    "systematic_fraction=0.01\n",
    "search_time=15 #search time of INTEGRAL DATA around the time of observation"
   ]
  },
  {
   "cell_type": "markdown",
   "metadata": {},
   "source": [
    "#  ISGRI verification with NuSTAR reference\n",
    "\n",
    "simultaneous observations allow easy comparisong\n",
    "\n",
    "normalization need to be fitted and reported"
   ]
  },
  {
   "cell_type": "code",
   "execution_count": 62,
   "metadata": {},
   "outputs": [],
   "source": [
    "%matplotlib notebook\n",
    "#import matplotlib.pylab as plt\n",
    "\n",
    "\n",
    "import numpy as np\n",
    "import importlib\n",
    "from astroquery.simbad import Simbad\n",
    "from astropy import coordinates as coord\n",
    "import os\n",
    "import numpy as np\n",
    "import glob\n",
    "\n",
    "from astropy.io import fits as pf\n",
    "from astropy.time import Time\n",
    "from astropy.time import TimeDelta\n",
    "\n",
    "from astropy import table\n",
    "\n",
    "import requests"
   ]
  },
  {
   "cell_type": "code",
   "execution_count": 45,
   "metadata": {},
   "outputs": [],
   "source": [
    "\n",
    "\n",
    "\n",
    "url=\"https://www.astro.unige.ch/cdci/astrooda/dispatch-data/gw/timesystem/api/v1.0/scwlist/cons/\"\n",
    "def get_scw_list(ra,dec,time, delta_time): #time in UTC T, deltat in days\n",
    "    \n",
    "#     result_table = Simbad.query_object(source_name)\n",
    "#     source_coord = coord.SkyCoord(result_table['RA'][0], result_table['DEC'][0], unit=(\"hourangle\", \"deg\"))\n",
    "\n",
    "#     ra=source_coord.ra.deg\n",
    "#     dec=source_coord.dec.deg\n",
    "    \n",
    "    dt = TimeDelta(delta_time)\n",
    "    \n",
    "    Tstart = Time(time) - dt\n",
    "    Tstop  = Time(time) + dt\n",
    "    \n",
    "    Tstart.format='isot'\n",
    "    Tstop.format='isot'\n",
    "    \n",
    "    \n",
    "    params=Tstart.value+'/'+Tstop.value+'?&ra='+str(ra)+'&dec='+str(dec)+'&radius='+str(6.0)+'&min_good_isgri=1000'\n",
    "    print(url+params)\n",
    "    return requests.get(url+params).json() #,cookies=cookies).json()\n",
    "\n"
   ]
  },
  {
   "cell_type": "code",
   "execution_count": 46,
   "metadata": {},
   "outputs": [
    {
     "data": {
      "text/plain": [
       "'../..'"
      ]
     },
     "execution_count": 46,
     "metadata": {},
     "output_type": "execute_result"
    }
   ],
   "source": [
    "reference_location\n",
    "\n",
    "# if reference_location  not git or http may be a problem\n",
    "# dependency injection for this, if can"
   ]
  },
  {
   "cell_type": "code",
   "execution_count": 74,
   "metadata": {},
   "outputs": [
    {
     "name": "stdout",
     "output_type": "stream",
     "text": [
      "inspecting ../../subcases/Her_X-1_2105\n",
      "../../subcases/Her_X-1_2105/nu30402009004B01_sr_rbn.pi\n",
      "https://www.astro.unige.ch/cdci/astrooda/dispatch-data/gw/timesystem/api/v1.0/scwlist/cons/2019-06-08T16:53:39.000/2019-07-08T16:53:39.000?&ra=254.45754&dec=35.34239&radius=6.0&min_good_isgri=1000\n"
     ]
    }
   ],
   "source": [
    "\n",
    "subcase=None\n",
    "reference_spectra = None\n",
    "\n",
    "for subcase_dir in glob.glob(reference_location+\"/subcases/*\"+subcases_pattern+\"*\"):\n",
    "    print(\"inspecting\", subcase_dir)\n",
    "    \n",
    "    fns = [os.path.basename(fn) for fn in glob.glob(subcase_dir+\"/*\")]\n",
    "    \n",
    "    try:\n",
    "        #If it is rebinned with my script\n",
    "        reference_spectra = [fn for fn in fns if fn.endswith(\"rbn.pi\")]\n",
    "        \n",
    "        reference_rmfs = [fn for fn in fns if fn.endswith(\"sr.rmf\")]\n",
    "        \n",
    "        reference_arfs = [fn for fn in fns if fn.endswith(\"sr.arf\")]\n",
    "        \n",
    "        reference_backs = [fn for fn in fns if fn.endswith(\"bk.pha\")]\n",
    "        \n",
    "    except: \n",
    "        print(\"Not found Nustar Files in \" + subcase_dir)\n",
    "        continue\n",
    "        \n",
    "    \n",
    "    try:\n",
    "        print(subcase_dir+'/'+reference_spectra[0])\n",
    "        spec=pf.open(subcase_dir+'/'+reference_spectra[0])\n",
    "\n",
    "        t1=Time(spec[1].header['DATE-OBS'])\n",
    "        t2=Time(spec[1].header['DATE-END'])\n",
    "\n",
    "        ra=spec[1].header['RA_OBJ']\n",
    "        dec=spec[1].header['DEC_OBJ']\n",
    "\n",
    "        delta_time = (t2 - t1 )/2\n",
    "\n",
    "        time=t1+delta_time\n",
    "\n",
    "        spec.close()\n",
    "\n",
    "\n",
    "        scwlist= get_scw_list(ra,dec, time, search_time)\n",
    "\n",
    "        #print(scwlist)\n",
    "    except:\n",
    "        print(\"Not getting times\")\n",
    "        continue\n",
    "    \n",
    "   \n",
    "        \n",
    "    #print(fns)\n",
    "    \n",
    "    reference_dir=subcase_dir\n",
    "    \n",
    "    #print(\"found\",reference_dir, reference_spectra, len(scwlist),len(ref_sources), ref_sources)\n",
    "        \n",
    "    break\n",
    "        \n",
    "#reference_spectra, reference_rmfs\n"
   ]
  },
  {
   "cell_type": "code",
   "execution_count": 48,
   "metadata": {},
   "outputs": [
    {
     "data": {
      "text/html": [
       "&lt;Table masked=True length=1&gt;\n",
       "<table id=\"table140315728471432\" class=\"table-striped table-bordered table-condensed\">\n",
       "<thead><tr><th>MAIN_ID</th><th>RA</th><th>DEC</th><th>RA_PREC</th><th>DEC_PREC</th><th>COO_ERR_MAJA</th><th>COO_ERR_MINA</th><th>COO_ERR_ANGLE</th><th>COO_QUAL</th><th>COO_WAVELENGTH</th><th>COO_BIBCODE</th></tr></thead>\n",
       "<thead><tr><th></th><th>&quot;h:m:s&quot;</th><th>&quot;d:m:s&quot;</th><th></th><th></th><th>mas</th><th>mas</th><th>deg</th><th></th><th></th><th></th></tr></thead>\n",
       "<thead><tr><th>object</th><th>str13</th><th>str13</th><th>int16</th><th>int16</th><th>float32</th><th>float32</th><th>int16</th><th>str1</th><th>str1</th><th>object</th></tr></thead>\n",
       "<tr><td>V* HZ Her</td><td>16 57 49.8110</td><td>+35 20 32.487</td><td>14</td><td>14</td><td>0.022</td><td>0.024</td><td>90</td><td>A</td><td>O</td><td>2018yCat.1345....0G</td></tr>\n",
       "</table>"
      ],
      "text/plain": [
       "<Table masked=True length=1>\n",
       " MAIN_ID        RA           DEC      ... COO_WAVELENGTH     COO_BIBCODE    \n",
       "             \"h:m:s\"       \"d:m:s\"    ...                                   \n",
       "  object      str13         str13     ...      str1             object      \n",
       "--------- ------------- ------------- ... -------------- -------------------\n",
       "V* HZ Her 16 57 49.8110 +35 20 32.487 ...              O 2018yCat.1345....0G"
      ]
     },
     "execution_count": 48,
     "metadata": {},
     "output_type": "execute_result"
    }
   ],
   "source": [
    "result_table = Simbad.query_object(source_name)\n",
    "source_coord = coord.SkyCoord(result_table['RA'][0], result_table['DEC'][0], unit=(\"hourangle\", \"deg\"))\n",
    "\n",
    "result_table"
   ]
  },
  {
   "cell_type": "code",
   "execution_count": 50,
   "metadata": {},
   "outputs": [
    {
     "data": {
      "text/plain": [
       "'210500660010.001,210500320010.001,210500600010.001'"
      ]
     },
     "execution_count": 50,
     "metadata": {},
     "output_type": "execute_result"
    }
   ],
   "source": [
    "import random\n",
    "if nscw >0:\n",
    "    random.seed(0)\n",
    "    scw_pick = random.sample([\n",
    "                s+\".\"+\"001\"\n",
    "                for s in list(sorted(set( scwlist  ))) \n",
    "                if s.endswith(\"0010\")\n",
    "            ],nscw)\n",
    "\n",
    "\n",
    "    scw_list_str = \",\".join(scw_pick)\n",
    "else:\n",
    "    scw_list_str=\",\".join([s+\".\"+\"001\" for s in sorted(set( scwlist  ))])\n",
    "\n",
    "#print(len(scw_list_str))\n",
    "\n",
    "scw_list_str"
   ]
  },
  {
   "cell_type": "code",
   "execution_count": 41,
   "metadata": {},
   "outputs": [
    {
     "name": "stdout",
     "output_type": "stream",
     "text": [
      "\n",
      "--------------\n",
      "instrumet: isgri\n",
      "\n",
      "--------------\n",
      "query_name: src_query\n",
      " name: src_name,  value: test,  units: str, \n",
      " name: RA,  value: 0.0,  units: deg, \n",
      " name: DEC,  value: 0.0,  units: deg, \n",
      " name: T1,  value: 2001-12-11T00:00:00.000,  units: None, \n",
      " name: T2,  value: 2001-12-11T00:00:00.000,  units: None, \n",
      "\n",
      "--------------\n",
      "query_name: isgri_parameters\n",
      " name: user_catalog,  value: None,  units: str, \n",
      " name: scw_list,  value: [],  units: names_list, \n",
      " name: radius,  value: 5.0,  units: deg, \n",
      " name: max_pointings,  value: 50,  units: None, \n",
      " name: osa_version,  value: None,  units: str, \n",
      " name: E1_keV,  value: 10.0,  units: keV, \n",
      " name: E2_keV,  value: 40.0,  units: keV, \n",
      "\n",
      "--------------\n",
      "query_name: isgri_image_query\n",
      " product_name: isgri_image\n",
      " name: detection_threshold,  value: 0.0,  units: sigma, \n",
      " name: image_scale_min,  value: None,  units: None, \n",
      " name: image_scale_max,  value: None,  units: None, \n",
      "\n",
      "--------------\n",
      "query_name: isgri_spectrum_query\n",
      " product_name: isgri_spectrum\n",
      "\n",
      "--------------\n",
      "query_name: isgri_lc_query\n",
      " product_name: isgri_lc\n",
      " name: time_bin,  value: 1000.0,  units: sec, \n",
      "\n",
      "--------------\n",
      "query_name: spectral_fit_query\n",
      " product_name: spectral_fit\n",
      " name: xspec_model,  value: powerlaw,  units: str, \n",
      " name: ph_file_name,  value: ,  units: str, \n",
      " name: arf_file_name,  value: ,  units: str, \n",
      " name: rmf_file_name,  value: ,  units: str, \n"
     ]
    }
   ],
   "source": [
    "import oda_api.api\n",
    "import importlib\n",
    "importlib.reload(oda_api)\n",
    "\n",
    "disp = oda_api.api.DispatcherAPI(host=\"http://cdcihn/staging-1.2/dispatcher\")\n",
    "#disp = oda_api.api.DispatcherAPI(host='www.astro.unige.ch/cdci/astrooda/dispatch-data')\n",
    "\n",
    "disp.get_instrument_description(\"isgri\")\n",
    "\n"
   ]
  },
  {
   "cell_type": "code",
   "execution_count": 51,
   "metadata": {},
   "outputs": [
    {
     "name": "stdout",
     "output_type": "stream",
     "text": [
      "210500660010.001,210500320010.001,210500600010.001\n",
      "waiting for remote response, please wait run_analysis http://cdcihn/staging-1.2/dispatcher\n",
      "the job has been submitted on the remote server\n",
      " \\ the job is working remotely, please wait status=done - job_id=-2550140004958077000  00  \n",
      "\n",
      "query done succesfully!\n"
     ]
    },
    {
     "ename": "NameError",
     "evalue": "name 'plt' is not defined",
     "output_type": "error",
     "traceback": [
      "\u001b[0;31m---------------------------------------------------------------------------\u001b[0m",
      "\u001b[0;31mNameError\u001b[0m                                 Traceback (most recent call last)",
      "\u001b[0;32m<ipython-input-51-b6fa4eb43a8e>\u001b[0m in \u001b[0;36m<module>\u001b[0;34m\u001b[0m\n\u001b[1;32m     29\u001b[0m         \u001b[0mimg\u001b[0m\u001b[0;34m[\u001b[0m\u001b[0mnp\u001b[0m\u001b[0;34m.\u001b[0m\u001b[0marray\u001b[0m\u001b[0;34m(\u001b[0m\u001b[0mimg\u001b[0m\u001b[0;34m)\u001b[0m\u001b[0;34m>\u001b[0m\u001b[0mimg_std\u001b[0m\u001b[0;34m*\u001b[0m\u001b[0;36m5\u001b[0m\u001b[0;34m]\u001b[0m\u001b[0;34m=\u001b[0m\u001b[0mimg_std\u001b[0m\u001b[0;34m*\u001b[0m\u001b[0;36m5\u001b[0m\u001b[0;34m\u001b[0m\u001b[0;34m\u001b[0m\u001b[0m\n\u001b[1;32m     30\u001b[0m \u001b[0;34m\u001b[0m\u001b[0m\n\u001b[0;32m---> 31\u001b[0;31m         \u001b[0mplt\u001b[0m\u001b[0;34m.\u001b[0m\u001b[0mimshow\u001b[0m\u001b[0;34m(\u001b[0m\u001b[0mimg\u001b[0m\u001b[0;34m)\u001b[0m\u001b[0;34m\u001b[0m\u001b[0;34m\u001b[0m\u001b[0m\n\u001b[0m\u001b[1;32m     32\u001b[0m \u001b[0;34m\u001b[0m\u001b[0m\n\u001b[1;32m     33\u001b[0m \u001b[0;31m#         by_lt['%.10lg'%c_emin]=dict(\u001b[0m\u001b[0;34m\u001b[0m\u001b[0;34m\u001b[0m\u001b[0;34m\u001b[0m\u001b[0m\n",
      "\u001b[0;31mNameError\u001b[0m: name 'plt' is not defined"
     ]
    }
   ],
   "source": [
    "\n",
    "mosaic=1\n",
    "\n",
    "if mosaic == 1:\n",
    "\n",
    "    for c_emin in [28]:\n",
    "\n",
    "        image = disp.get_product(instrument=\"isgri\", \n",
    "                         product=\"isgri_image\", \n",
    "                         product_type=\"Real\", \n",
    "                         osa_version=osa_version,\n",
    "                         E1_keV=np.round(c_emin),\n",
    "                         E2_keV=80.0,\n",
    "                         scw_list=scw_list_str)\n",
    "\n",
    "        sources=image.dispatcher_catalog_1.table[image.dispatcher_catalog_1.table['significance']>=6.0]\n",
    "        source = sources[sources['source_names']==source_name]\n",
    "        print(source)\n",
    "\n",
    "#         d=image.mosaic_image_0.data_unit[1].data\n",
    "\n",
    "\n",
    "#         img=np.array(d.data)\n",
    "\n",
    "#         m_bkg=img<10\n",
    "#         m_bkg&=img!=0\n",
    "\n",
    "#         img_std = np.std(img[m_bkg])\n",
    "\n",
    "#         img[np.array(img)>img_std*5]=img_std*5\n",
    "\n",
    "        #plt.imshow(img)\n",
    "\n",
    "#         by_lt['%.10lg'%c_emin]=dict(\n",
    "#             emin=c_emin,            \n",
    "#             imgstd=img_std,\n",
    "#         )\n",
    "#         by_lt['%.10lg'%c_emin].update(dict([(n, source[n]) for n in source.colnames]))\n",
    "\n",
    "        \n",
    "#     for ltb, c in by_lt.items():\n",
    "#         print(lt, c['significance'],c['significance']/c['imgstd'])"
   ]
  },
  {
   "cell_type": "code",
   "execution_count": 64,
   "metadata": {},
   "outputs": [
    {
     "data": {
      "text/html": [
       "&lt;Table length=2&gt;\n",
       "<table id=\"table140315604481584\" class=\"table-striped table-bordered table-condensed\">\n",
       "<thead><tr><th>meta_ID</th><th>src_names</th><th>significance</th><th>ra</th><th>dec</th><th>NEW_SOURCE</th><th>ISGRI_FLAG</th><th>FLAG</th><th>ERR_RAD</th></tr></thead>\n",
       "<thead><tr><th></th><th></th><th></th><th>deg</th><th>deg</th><th></th><th></th><th></th><th></th></tr></thead>\n",
       "<thead><tr><th>int64</th><th>str20</th><th>float64</th><th>float64</th><th>float64</th><th>int64</th><th>int64</th><th>int64</th><th>float64</th></tr></thead>\n",
       "<tr><td>3</td><td>Her X-1</td><td>28.002267837524414</td><td>254.46145629882812</td><td>35.35344696044922</td><td>-32768</td><td>2</td><td>0</td><td>0.0002800000074785203</td></tr>\n",
       "<tr><td>21</td><td>Her X-1</td><td>15.267021179199219</td><td>254.44912719726562</td><td>35.35095977783203</td><td>-32768</td><td>2</td><td>0</td><td>0.0002800000074785203</td></tr>\n",
       "</table>"
      ],
      "text/plain": [
       "<Table length=2>\n",
       "meta_ID src_names    significance    ... ISGRI_FLAG  FLAG        ERR_RAD       \n",
       "                                     ...                                       \n",
       " int64    str20        float64       ...   int64    int64        float64       \n",
       "------- --------- ------------------ ... ---------- ----- ---------------------\n",
       "      3   Her X-1 28.002267837524414 ...          2     0 0.0002800000074785203\n",
       "     21   Her X-1 15.267021179199219 ...          2     0 0.0002800000074785203"
      ]
     },
     "execution_count": 64,
     "metadata": {},
     "output_type": "execute_result"
    }
   ],
   "source": [
    "sources"
   ]
  },
  {
   "cell_type": "code",
   "execution_count": 71,
   "metadata": {},
   "outputs": [],
   "source": [
    "unique_sources=table.unique(sources, keys=['src_names'])"
   ]
  },
  {
   "cell_type": "code",
   "execution_count": 72,
   "metadata": {},
   "outputs": [],
   "source": [
    "##Removes new sources and adds our if not found\n",
    "FLAG=0\n",
    "torm=[]\n",
    "for ID,n in enumerate(unique_sources['src_names']):\n",
    "    if(n[0:3]=='NEW'):\n",
    "        torm.append(ID)\n",
    "    if(n==source_name):\n",
    "        FLAG=1\n",
    "\n",
    "unique_sources.remove_rows(torm)\n",
    "nrows=len(unique_sources['src_names'])\n",
    "\n",
    "if FLAG==0:\n",
    "    unique_sources.add_row((0,source_name,0,ra,dec,0,2,0,0))\n",
    "\n",
    "image.dispatcher_catalog_1.table = unique_sources\n",
    "\n",
    "api_cat=image.dispatcher_catalog_1.get_api_dictionary()\n",
    "\n"
   ]
  },
  {
   "cell_type": "code",
   "execution_count": 73,
   "metadata": {},
   "outputs": [
    {
     "name": "stdout",
     "output_type": "stream",
     "text": [
      "210500660010.001,210500320010.001,210500600010.001\n",
      "waiting for remote response, please wait run_analysis http://cdcihn/staging-1.2/dispatcher\n",
      "the job has been submitted on the remote server\n",
      " / the job is working remotely, please wait status=done - job_id=7979574988339343174  74  \n",
      "\n",
      "query done succesfully!\n"
     ]
    }
   ],
   "source": [
    "spectrum = disp.get_product(instrument=\"isgri\", \n",
    "                 product=\"isgri_spectrum\", \n",
    "                 product_type=\"Real\", \n",
    "                 osa_version=osa_version,\n",
    "                 E1_keV=25.0,\n",
    "                 E2_keV=80.0,\n",
    "                 scw_list=scw_list_str,\n",
    "                 selected_cat=api_cat)"
   ]
  },
  {
   "cell_type": "code",
   "execution_count": 75,
   "metadata": {},
   "outputs": [
    {
     "name": "stderr",
     "output_type": "stream",
     "text": [
      "WARNING: VerifyWarning: Keyword name 'instrument' is greater than 8 characters or contains characters not allowed by the FITS standard; a HIERARCH card will be created. [astropy.io.fits.card]\n",
      "WARNING: VerifyWarning: Keyword name 'osa_version' is greater than 8 characters or contains characters not allowed by the FITS standard; a HIERARCH card will be created. [astropy.io.fits.card]\n",
      "WARNING: VerifyWarning: Keyword name 'product_type' is greater than 8 characters or contains characters not allowed by the FITS standard; a HIERARCH card will be created. [astropy.io.fits.card]\n",
      "WARNING: VerifyWarning: Keyword name 'query_status' is greater than 8 characters or contains characters not allowed by the FITS standard; a HIERARCH card will be created. [astropy.io.fits.card]\n",
      "WARNING: VerifyWarning: Keyword name 'query_type' is greater than 8 characters or contains characters not allowed by the FITS standard; a HIERARCH card will be created. [astropy.io.fits.card]\n",
      "WARNING: VerifyWarning: Keyword name 'session_id' is greater than 8 characters or contains characters not allowed by the FITS standard; a HIERARCH card will be created. [astropy.io.fits.card]\n"
     ]
    }
   ],
   "source": [
    "specprod=[l for l in spectrum._p_list if l.meta_data['src_name'] == source_name]    \n",
    "\n",
    "spec_fn=\"/tmp/isgri_spectrum_{}.fits\".format(source_name.replace(' ', '_'))\n",
    "arf_fn=\"/tmp/isgri_arf_{}.fits\".format(source_name.replace(' ', '_'))\n",
    "rmf_fn=\"/tmp/isgri_rmf_{}.fits\".format(source_name.replace(' ', '_'))\n",
    "\n",
    "specprod[0].write_fits_file(spec_fn)\n",
    "specprod[1].write_fits_file(arf_fn)\n",
    "specprod[2].write_fits_file(rmf_fn)"
   ]
  },
  {
   "cell_type": "code",
   "execution_count": null,
   "metadata": {},
   "outputs": [],
   "source": [
    "from astropy.io import fits\n",
    "\n",
    "for s, b, r, a in zip(reference_spectra, reference_backs, reference_rmfs, reference_arfs):\n",
    "\n",
    "    fs=fits.open(reference_dir+\"/\"+s)\n",
    "    fr=fits.open(reference_dir+\"/\"+r)\n",
    "    fb=fits.open(reference_dir+\"/\"+b)\n",
    "    fa=fits.open(reference_dir+\"/\"+a)\n",
    "    \n",
    "\n",
    "    fs[2].header['RESPFILE'] = 'NONE'\n",
    "    fs[2].header['ANCRFILE'] = 'NONE'\n",
    "    fs[2].header['BACKFILE'] = 'NONE'\n",
    "    \n",
    "    #f[2].header['RESPFILE']\n",
    "    if \"A\" in s:\n",
    "        fs.writeto(\"reference_spec_A.fits\", overwrite=True)\n",
    "        fr.writeto(\"reference_rmf_A.fits\", overwrite=True)\n",
    "        fb.writeto(\"reference_bkg_A.fits\", overwrite=True)\n",
    "        fa.writeto(\"reference_arf_A.fits\", overwrite=True)\n",
    "    else:\n",
    "        fs.writeto(\"reference_spec_B.fits\", overwrite=True)\n",
    "        fr.writeto(\"reference_rmf_B.fits\", overwrite=True)\n",
    "        fb.writeto(\"reference_bkg_B.fits\", overwrite=True)\n",
    "        fa.writeto(\"reference_arf_B.fits\", overwrite=True)\n",
    "    \n",
    "    fs.close()\n",
    "    fb.close()\n",
    "    fa.close()\n",
    "    fr.close()\n"
   ]
  },
  {
   "cell_type": "code",
   "execution_count": null,
   "metadata": {
    "tags": [
     "outputs"
    ]
   },
   "outputs": [],
   "source": [
    "reference_spec=\"reference_spec.fits\"\n",
    "reference_rmf=\"reference_rmf.fits\"\n",
    "isgri_spec=spec_fn\n",
    "isgri_arf=arf_fn\n",
    "isgri_rmf=rmf_fn"
   ]
  }
 ],
 "metadata": {
  "celltoolbar": "Tags",
  "kernelspec": {
   "display_name": "Python 3",
   "language": "python",
   "name": "python3"
  },
  "language_info": {
   "codemirror_mode": {
    "name": "ipython",
    "version": 3
   },
   "file_extension": ".py",
   "mimetype": "text/x-python",
   "name": "python",
   "nbconvert_exporter": "python",
   "pygments_lexer": "ipython3",
   "version": "3.6.9"
  }
 },
 "nbformat": 4,
 "nbformat_minor": 2
}
